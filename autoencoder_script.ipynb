# %%
import os
import numpy as np
import matplotlib.pyplot as plt
from PIL import Image

# %% [markdown]
# ## EDA

# %% [markdown]
# In this task we do not have familiar bunch of classes as labels but denoised pictures instead. 
# Firstly, let us take a look on what our source and label pictures look like.

# %%
path = './data/AUTOENCODER/augmented_src/'
path_labels = './data/AUTOENCODER/augmented_labels/'

rows, cols = 5, 2
fig, ax = plt.subplots(rows, cols, figsize=(8, 20))
ax = ax.ravel()

files_src = sorted(os.listdir(path))
files_labels = sorted(os.listdir(path_labels))


for i in np.arange(0, rows * cols, 2):
    rand = np.random.randint(0, len(files_src))
    item = files_src[rand]
    item_label = files_labels[rand]

    if os.path.isfile(os.path.join(path, item)):
        img_src = Image.open(path + item)
        img_label = Image.open(path_labels + item_label)

        ax[i].set_title(item)
        ax[i].imshow(img_src)
        ax[i].axis('off')

        ax[i+1].set_title(item_label)
        ax[i+1].imshow(img_label)
        ax[i+1].axis('off')

plt.show()

# %% [markdown]
# Then, get images number and all different image sizes in data.

# %%
sizes = {}
names = []

for item in os.listdir(path):
    if os.path.isfile(os.path.join(path, item)):
        # get file name
        names.append(item)
        img = Image.open(path + item)
        # get image size using its dimensions
        h, w, d = np.array(img).shape
        # add a list of all existed 2nd dimensions with the 1st one
        if h not in sizes:
            sizes[h] = list()
        if w not in sizes[h]:
            sizes[h].append(w)
        else:
            continue

# %%
# how many pictures we have
print('There are {} images in the dataset'.format(len(names)))
# how many different sizes (by 1st dimension)
print('There are {} different image sizes only by 1st dimension'.format(len(sizes)))

# %% [markdown]
# Make a see on what some of the pictures dimensions pairs are.

# %%
list(sizes.items())[:10]

# %%
print(names[:20])

# %%
sizes_labels = {}
names_labels = []

for item in os.listdir(path_labels):
    if os.path.isfile(os.path.join(path_labels, item)):
        # get file name
        names_labels.append(item)
        img = Image.open(path_labels + item)
        # get image size using its dimensions
        h, w, d = np.array(img).shape
        # add a list of all existed 2nd dimensions with the 1st one
        if h not in sizes_labels:
            sizes_labels[h] = list()
        if w not in sizes_labels[h]:
            sizes_labels[h].append(w)
        else:
            continue

# %%
print(len(names_labels))
print(names_labels[:20])

# %%
names.sort()
names_labels.sort()

# %%
print(names[:30])
print(names_labels[:30])

# %%
names_diff = {}

for item in range(len(names)):
    if names[item] != names_labels[item]:
        names_diff[names[item]] = names_labels[item]

# %% [markdown]
# See how many mismatching examples we have.

# %%
print(len(names_diff))

# %% [markdown]
# Print out some of them to find out the mismatch reason.

# %%
print(list(names_diff.items())[:20])

# %% [markdown]
# Based on above, we can assume that image names discrepancy is caused by the pictures format in capital letters. This would cause errors while data loading so I will have to handle it.  
# 
# Now check whether our label images have the same shape as the source ones.  
# Firstly sort both dictionaries with pictures sizes and then compare them.

# %%
sizes_sorted = {x: sorted(sizes[x]) for x in sizes.keys()}
sizes_labels_sorted = {x: sorted(sizes_labels[x]) for x in sizes_labels.keys()}

# %%
sizes_sorted == sizes_labels_sorted


